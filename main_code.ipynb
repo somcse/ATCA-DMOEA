import numpy as np
import random
import matplotlib.pyplot as plt
from mpl_toolkits.mplot3d import Axes3D
from pymoo.algorithms.moo.nsga2 import NSGA2
from pymoo.core.problem import Problem
from pymoo.optimize import minimize
from pymoo.operators.sampling.lhs import LHS
from pymoo.operators.crossover.sbx import SBX
from pymoo.operators.mutation.pm import PM
from pymoo.operators.selection.tournament import TournamentSelection
from pymoo.termination import get_termination
from sklearn.metrics.pairwise import rbf_kernel
from pymoo.core.repair import Repair
from pymoo.util.nds.non_dominated_sorting import NonDominatedSorting
from pymoo.indicators.igd import IGD
from pymoo.indicators.hv import HV
from pymoo.problems.dynamic.df import DF14 #DF series problems can be imported individually


def crowding_distance(F):
    n_points, n_obj = F.shape
    distance = np.zeros(n_points)

    for m in range(n_obj):
        sorted_indices = np.argsort(F[:, m])
        f_min = F[sorted_indices[0], m]
        f_max = F[sorted_indices[-1], m]
        distance[sorted_indices[0]] = distance[sorted_indices[-1]] = np.inf

        for i in range(1, n_points - 1):
            if f_max - f_min == 0:
                continue
            distance[sorted_indices[i]] += (
                F[sorted_indices[i + 1], m] - F[sorted_indices[i - 1], m]
            ) / (f_max - f_min)

    return distance


def compute_sp(F):
    from scipy.spatial.distance import cdist

    if F.shape[0] < 2:
        return 0.0  # SP is undefined for fewer than 2 points

    distances = cdist(F, F)
    np.fill_diagonal(distances, np.inf)

    D = np.min(distances, axis=1)

    if np.any(np.isinf(D)) or np.any(np.isnan(D)):
        return 0.0  # Handle degenerate case

    mean_D = np.mean(D)
    if np.isnan(mean_D):
        return 0.0

    SP = np.sqrt(np.sum((D - mean_D) ** 2) / (len(D) - 1))
    return SP


def compute_ms(F, true_pf):
    F_min = np.min(F, axis=0)
    F_max = np.max(F, axis=0)
    true_min = np.min(true_pf, axis=0)
    true_max = np.max(true_pf, axis=0)

    ms_components = []
    for k in range(F.shape[1]):  # for each objective
        numerator = np.minimum(true_max[k], F_max[k]) - np.maximum(true_min[k], F_min[k])
        denominator = true_max[k] - true_min[k]
        if np.abs(denominator) < 1e-6:
            ms_components.append(0)
        else:
            ms_components.append((numerator / denominator) ** 2)

    MS = np.sqrt(np.sum(ms_components) / F.shape[1])
    return MS


# ---------------------- Repair ----------------------
class ClipRepair(Repair):
    def _do(self, problem, X, **kwargs):
        return np.clip(X, problem.xl, problem.xu)


# ---------------------- Problem can be inputed manually by putting in this class ----------------------
class Problem1(Problem):
    def __init__(self, n_var=10, t=0.0):
        self.t = t  # dynamic time parameter
        self.a = np.sin(0.5 * np.pi * self.t)
        self.b = 1 + abs(np.cos(0.5 * np.pi * self.t))
        self.c = max(abs(self.a), self.a + self.b)
        self.H = 1.5 + self.a

        xl = -2 * np.ones(n_var)
        xu = 2 * np.ones(n_var)

        super().__init__(n_var=n_var, n_obj=2, n_constr=0, xl=xl, xu=xu)

    def _evaluate(self, X, out, *args, **kwargs):
        x1 = X[:, 0:1]
        n = X.shape[1]
        g = 1 + np.sum((X[:, 1:] - (self.a * x1**2) / (np.arange(2, n+1) * self.c**2))**2,axis=1)

        f1 = g * np.abs(X[:, 0] - self.a)**self.H
        f2 = g * np.abs(X[:, 0] - self.a - self.b)**self.H

        out["F"] = np.column_stack([f1, f2])


def get_true_pf(problem, t, n_points=1000): #code to get true pareto front will come in this function
    '''
    G_t = np.abs(np.sin(0.5 * np.pi * t))
    radius = 1 + G_t

    # Sample points on the first octant of the unit sphere and scale by radius
    phi = np.random.uniform(0, np.pi/2, n_points)
    theta = np.random.uniform(0, np.pi/2, n_points)

    f1 = radius * np.sin(theta) * np.cos(phi)
    f2 = radius * np.sin(theta) * np.sin(phi)
    f3 = radius * np.cos(theta)

    return np.column_stack([f1, f2, f3]) #for DF13 only
    '''
    return problem.pareto_front() #for other DF series functions


# ---------------------- TCA ----------------------
class TCA:
    def __init__(self, dim=2, kernel_type='rbf', lamb=1, gamma=1):
        self.dim = dim
        self.kernel_type = kernel_type
        self.lamb = lamb
        self.gamma = gamma

    def _kernel(self, X1, X2=None):
        if self.kernel_type == 'linear':
            return np.dot(X1, X2.T)
        elif self.kernel_type == 'rbf':
            if X2 is None:
                X2 = X1
            return rbf_kernel(X1, X2, gamma=self.gamma)

    def fit_transform(self, Xs, Xt):
        X_all = np.vstack((Xs, Xt))
        ns, nt = len(Xs), len(Xt)
        K = self._kernel(X_all)
        L = np.zeros((ns + nt, ns + nt))
        L[:ns, :ns] = 1.0 / (ns**2)
        L[ns:, ns:] = 1.0 / (nt**2)
        L[:ns, ns:] = -1.0 / (ns * nt)
        L[ns:, :ns] = -1.0 / (ns * nt)
        H = np.eye(ns + nt) - (1.0 / (ns + nt)) * np.ones((ns + nt, ns + nt))
        Kc = np.linalg.inv(K + self.lamb * np.eye(ns + nt)) @ K
        eigvals, eigvecs = np.linalg.eigh(Kc @ L @ Kc)
        idx = np.argsort(-eigvals)[:self.dim]
        W = eigvecs[:, idx]
        Z = K @ W
        return Z[:ns, :]


# ---------------------- Transfer ----------------------
def transfer_solutions(source_data, target_data):
    tca = TCA(dim=10, kernel_type='rbf', lamb=1, gamma=0.4) 
    return tca.fit_transform(source_data, target_data)


def select_subset(saved, problem, max_elements=100):
    source = np.array(saved)  # Ensure it's a NumPy array
    n = len(source)

    if n == 0:
        return np.array([])  # Return empty array if source is empty

    if n <= max_elements:
        return source
    else:
        F_saved = np.zeros((len(source), problem.n_obj))
        for i, ind in enumerate(source):
            out = {}
            problem._evaluate(np.array([ind]), out)
            F_saved[i] = out["F"][0]
        best_indices = np.argsort(np.sum(F_saved, axis=1))[:max_elements]
        best_population = np.array(source)[best_indices]

        return best_population


# ---------------------- Save Solutions ----------------------
def save_elite_solutions(problem, var, obj, max_save, solutions, max_per_problem=40):
    current_solutions = [var[i].tolist() for i in range(len(var))]

    if len(current_solutions) > max_per_problem:
        random_indices = np.random.choice(len(current_solutions), size=max_per_problem, replace=False)
        current_elites = [current_solutions[i] for i in random_indices]
    else:
        current_elites = current_solutions

    combined = solutions + current_elites

    if len(combined) > max_save:
        random_indices = np.random.choice(len(combined), size=max_save, replace=False)
        combined = [combined[i] for i in random_indices]

    solutions[:] = combined


# ---------------------- Algorithm Setup ----------------------
def get_algorithm(init_pop):
    return NSGA2(
        pop_size=100,
        sampling=init_pop,
        crossover=SBX(prob=0.8, eta=20),
        mutation=PM(prob=0.2, eta=20),
        repair=ClipRepair(),
        eliminate_duplicates=True,
    )


#Driver code
frequency_of_change = 10       # τ
severity = 10                  # severity multiplier for t
num_changes = 9                # number of changes
population_size = 100
max_save = 1000                # max no of individuals allowed in archive
save_each_prob = 50            # no of individuals stored in archive at each environment change

# Time steps (normalized t ∈ [0, 1]) → scaled by severity
time_steps = np.array([np.floor(i / frequency_of_change) / severity for i in range(0, 201, 10)])  # calculate t values beforehand by using the formula
termination = get_termination("n_gen", frequency_of_change)


num_runs = 1  # Number of independent runs

all_migd = []
all_sp = []
all_ms = []
all_fronts = []
all_igd = []

for run in range(num_runs):
    print(f"Run {run+1}/{num_runs} ...")

    saved = []               #Archive
    migd_vals = []
    sp_vals = []
    ms_vals = []

    fronts_this_run = []  # NEW: collect all fronts for this run

    for idx, t_unit in enumerate(time_steps):
        t = t_unit

        if idx == 0:
            problem = DF14(time=t) #Use imported DF function or manually typed Problem1
            algorithm = NSGA2(
                pop_size=population_size,
                sampling=LHS(),
                crossover=SBX(prob=0.8, eta=20),
                mutation=PM(prob=0.2, eta=20),
                repair=ClipRepair(),
                eliminate_duplicates=True,
            )   #NSGA2 setup
            res = minimize(problem, algorithm, termination, seed=None, verbose=False)

            true_pf = get_true_pf(problem, t, n_points=1000)
            migd = IGD(true_pf).do(res.F)
            migd_vals.append(migd)
            all_igd.append(migd)
            sp = compute_sp(res.F)
            ms = compute_ms(res.F, true_pf)
            sp_vals.append(sp)
            ms_vals.append(ms)       # metrics calculation

            save_elite_solutions(problem, res.X, res.F, max_save, saved, save_each_prob)   #save in archive

        else:
            problem = DF14(time=t) #Use imported DF function or manually typed Problem1
            xl = problem.xl
            xu = problem.xu
            random_target_population = np.random.uniform(xl, xu, (50, 10)) # target population
            transferred_population = transfer_solutions(select_subset(saved, problem, 100), random_target_population) #transfer population

            F_saved = np.zeros((len(saved), problem.n_obj))
            for i, ind in enumerate(saved):
                out = {}
                problem._evaluate(np.array([ind]), out)
                F_saved[i] = out["F"][0]

            nds = NonDominatedSorting().do(F_saved, only_non_dominated_front=True)
            nd_front = np.array(saved)[nds]
            F_nd_front = F_saved[nds]
            cd = crowding_distance(F_nd_front)
            selected_indices = np.argsort(-cd)[:40]
            best_40_population = nd_front[selected_indices] #elite population extraction


            selected_indices = np.random.choice(len(transferred_population), size=min(40,len(transferred_population)), replace=False) #select 40 transfer population
            selected_transferred = transferred_population[selected_indices]

            random_target_population = np.random.uniform(xl, xu, (20, 10)) #random individuals

            final_initial_population = np.vstack((
                selected_transferred,
                random_target_population,
                best_40_population
            )) #combine all individuals
            n_needed = population_size - len(final_initial_population)
            random_fill = np.random.uniform(xl, xu, (n_needed, problem.n_var))
            full_sampling = np.vstack([final_initial_population, random_fill]) #if size still not 100 initialize random individuals
            algorithm = get_algorithm(full_sampling)
            res = minimize(problem, algorithm, termination, seed=None, verbose=False)

            true_pf = get_true_pf(problem, t, n_points=1000)
            migd = IGD(true_pf).do(res.F)
            migd_vals.append(migd)
            all_igd.append(migd)
            sp = compute_sp(res.F)
            ms = compute_ms(res.F, true_pf)
            sp_vals.append(sp)
            ms_vals.append(ms)

            save_elite_solutions(problem, res.X, res.F, max_save, saved, save_each_prob)

        fronts_this_run.append(res.F)

    MIGD = np.mean(migd_vals)
    MSP = np.mean(sp_vals)
    MMS = np.mean(ms_vals)

    all_migd.append(MIGD)
    all_sp.append(MSP)
    all_ms.append(MMS)
    all_fronts.append(fronts_this_run)  # NEW: Save fronts of this run

# ---------------------- Results ----------------------

all_migd = np.array(all_migd)
all_sp = np.array(all_sp)
all_ms = np.array(all_ms)

print("\n--- Final Results over 20 Runs ---")
print(f"Mean MIGD: {np.mean(all_migd):.6f} | STD: {np.std(all_migd):.6f}")
print(f"Mean SP  : {np.mean(all_sp):.6f} | STD: {np.std(all_sp):.6f}")
print(f"Mean MS  : {np.mean(all_ms):.6f} | STD: {np.std(all_ms):.6f}")
print("Min : ", min(all_migd), min(all_sp), max(all_ms))

# ---------------------- Plot as required ----------------------

plt.figure(figsize=(4, 4))
plt.plot(range(1, len(all_igd)), all_igd[1:], marker='o', linestyle='-', color='red') #MIGD vs no of change plot

plt.xlabel("No. of changes")
plt.ylabel("IGD")
plt.title("DF14")
plt.grid(False)
plt.tight_layout()
plt.show() 

'''
ax = plt.axes(projection='3d')
for run_fronts in all_fronts:
    for front in run_fronts:
        ax.scatter(front[:, 0], front[:, 1], front[:, 2], s=10, alpha=0.4) #plot for 3 objective problems
        #plt.scatter(front[:, 0], front[:, 1], s=10, alpha=0.4) #plot for 2 objective problems

ax.set_xlabel("Objective 1")
ax.set_ylabel("Objective 2")
ax.set_zlabel("Objective 3")
ax.set_title("All Pareto Fronts for DF14 problem")

#plt.xlabel("Objective 1")
#plt.ylabel("Objective 2")
#plt.title("All Pareto Fronts for DF14 problem") #####################################################
plt.grid()
plt.tight_layout()
plt.show()
'''
